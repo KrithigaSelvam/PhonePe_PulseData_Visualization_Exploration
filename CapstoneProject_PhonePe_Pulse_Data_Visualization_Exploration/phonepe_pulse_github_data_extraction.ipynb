{
 "cells": [
  {
   "cell_type": "code",
   "execution_count": null,
   "metadata": {},
   "outputs": [],
   "source": [
    "#       PHONEPE PULSE DATA DOWNLOAD FROM GITHUB REPOSITORY  -  Executed once to download data into local workspace\n",
    "import git\n",
    "\n",
    "repository_url = \"https://github.com/PhonePe/pulse.git\"\n",
    "destination_directory = \"C:/Users/spand/OneDrive/Desktop/Proj2_PhonePe/Data_github\"\n",
    "#destination_directory = \"D:\\Krithiga\\Proj2_PhonePe\\Data_github\"\n",
    "git.Repo.clone_from(repository_url, destination_directory)\n",
    "#### data extracted"
   ]
  },
  {
   "cell_type": "code",
   "execution_count": 1,
   "metadata": {},
   "outputs": [],
   "source": [
    "###    Map Indian state names from phonepe pulse data to Indian state names in geojson file(for visualisation)    \n",
    "\n",
    "state_data_map={'andaman-&-nicobar-islands'         :'Andaman & Nicobar',\n",
    "                'andhra-pradesh'                    :'Andhra Pradesh',\n",
    "                'arunachal-pradesh'                 :'Arunachal Pradesh',\n",
    "                'assam'                             :'Assam',\n",
    "                'bihar'                             :'Bihar',\n",
    "                'chandigarh'                        :'Chandigarh',\n",
    "                'chhattisgarh'                      :'Chhattisgarh',\n",
    "                'dadra-&-nagar-haveli-&-daman-&-diu':'Dadra and Nagar Haveli and Daman and Diu',\n",
    "                'delhi'                             :'Delhi',\n",
    "                'goa'                               :'Goa',\n",
    "                'gujarat'                           :'Gujarat',\n",
    "                'haryana'                           :'Haryana',\n",
    "                'himachal-pradesh'                  :'Himachal Pradesh',\n",
    "                'jammu-&-kashmir'                   :'Jammu & Kashmir',\n",
    "                'jharkhand'                         :'Jharkhand',\n",
    "                'karnataka'                         :'Karnataka',\n",
    "                'kerala'                            :'Kerala',\n",
    "                'ladakh'                            :'Ladakh',\n",
    "                'lakshadweep'                       :'Lakshadweep',\n",
    "                'madhya-pradesh'                    :'Madhya Pradesh',\n",
    "                'maharashtra'                       :'Maharashtra',\n",
    "                'manipur'                           :'Manipur',\n",
    "                'meghalaya'                         :'Meghalaya',\n",
    "                'mizoram'                           :'Mizoram',\n",
    "                'nagaland'                          :'Nagaland',\n",
    "                'odisha'                            :'Odisha',\n",
    "                'puducherry'                        :'Puducherry',\n",
    "                'punjab'                            :'Punjab',\n",
    "                'rajasthan'                         :'Rajasthan',\n",
    "                'sikkim'                            :'Sikkim',\n",
    "                'tamil-nadu'                        :'Tamil Nadu',\n",
    "                'telangana'                         :'Telangana',\n",
    "                'tripura'                           :'Tripura',\n",
    "                'uttar-pradesh'                     :'Uttarakhand',\n",
    "                'uttarakhand'                       :'Uttar Pradesh',\n",
    "                'west-bengal'                       :'West Bengal'\n",
    "                }"
   ]
  },
  {
   "cell_type": "code",
   "execution_count": 6,
   "metadata": {},
   "outputs": [],
   "source": [
    "##      Import necessary libraries for accessing/reading/manipulating data\n",
    "\n",
    "import pandas as pd\n",
    "import json\n",
    "import os"
   ]
  },
  {
   "cell_type": "code",
   "execution_count": 4,
   "metadata": {},
   "outputs": [],
   "source": [
    "##  Establish MySQL Connection Thread\n",
    "import mysql.connector\n",
    "\n",
    "mydb = mysql.connector.connect( host=\"localhost\", user=\"root\", password=\"\",database=\"project_phonepe\")\n",
    "mycursor = mydb.cursor(buffered=True)"
   ]
  },
  {
   "cell_type": "code",
   "execution_count": 7,
   "metadata": {},
   "outputs": [],
   "source": [
    "##      Create a separate database for this project data tables\n",
    "\n",
    "#mycursor.execute('create database project_phonepe')"
   ]
  },
  {
   "cell_type": "code",
   "execution_count": null,
   "metadata": {},
   "outputs": [],
   "source": [
    "#       Extract Aggregate Transaction Data - for each state - Year/Quarter wise\n",
    "\n",
    "clm={'State':[], 'Year':[],'Quarter':[],'Transaction_Type':[], 'Transaction_Count':[], 'Transaction_Amount':[]}\n",
    "\n",
    "path_agg_state=\"C:/Users/spand/OneDrive/Desktop/Proj2_PhonePe/Data_github/data/aggregated/transaction/country/india/state/\"   \n",
    "Agg_state_list=os.listdir(path_agg_state)\n",
    "for i in Agg_state_list:\n",
    "    p_i=path_agg_state+i+\"/\"\n",
    "    Agg_yr_list=os.listdir(p_i)\n",
    "    for j in Agg_yr_list:\n",
    "        p_j=p_i+j+\"/\"\n",
    "        Agg_yr_qtr_list=os.listdir(p_j)\n",
    "        for k in Agg_yr_qtr_list:\n",
    "            p_k=p_j+k\n",
    "            Data=open(p_k,'r')\n",
    "            D=json.load(Data)\n",
    "            for z in D['data']['transactionData']:\n",
    "              Name=z['name']\n",
    "              count=z['paymentInstruments'][0]['count']\n",
    "              amount=z['paymentInstruments'][0]['amount']\n",
    "              clm['Transaction_Type'].append(Name)\n",
    "              clm['Transaction_Count'].append(count)\n",
    "              clm['Transaction_Amount'].append(amount)\n",
    "              clm['State'].append(state_data_map[i])\n",
    "              clm['Year'].append(j)\n",
    "              clm['Quarter'].append(int(k.strip('.json')))\n",
    "#Succesfully created a dataframe\n",
    "Agg_Trans_df=pd.DataFrame(clm)"
   ]
  },
  {
   "cell_type": "code",
   "execution_count": null,
   "metadata": {},
   "outputs": [],
   "source": [
    "##  Create Table for Aggregate Transaction Data\n",
    "\n",
    "mycursor.execute('''create table IF NOT EXISTS project_phonepe.Aggregate_Transaction (State VARCHAR(255),\n",
    "                 Year SMALLINT, Quarter TINYINT, Transaction_Type VARCHAR(255), Transaction_Count INT, \n",
    "                 Transaction_Amount BIGINT)''')"
   ]
  },
  {
   "cell_type": "code",
   "execution_count": null,
   "metadata": {},
   "outputs": [],
   "source": [
    "##  Insert the Aggregate Transactions data extracted from json into SQL database\n",
    "\n",
    "for index,row in Agg_Trans_df.iterrows():\n",
    "    mycursor.execute('''INSERT INTO Aggregate_Transaction(State, Year,Quarter, Transaction_Type, Transaction_Count, \n",
    "                     Transaction_Amount) VALUES (%s,%s,%s,%s,%s,%s)''',\n",
    "                     (row['State'],row['Year'],row['Quarter'],row['Transaction_Type'],\n",
    "                      row['Transaction_Count'],row['Transaction_Amount']))\n",
    "    \n",
    "mydb.commit()"
   ]
  },
  {
   "cell_type": "code",
   "execution_count": null,
   "metadata": {},
   "outputs": [],
   "source": [
    "#       Extract Aggregate User Data for each State - Year/Quarter wise (including brandwise data)\n",
    "\n",
    "clm1={'State':[], 'Year':[],'Quarter':[],'Registered_Users':[], 'App_Opens':[]}\n",
    "clm2={'State':[], 'Year':[],'Quarter':[],'Brand_Name':[], 'Brand_User_Count':[], 'Registered_Users':[], 'Brand_User_Percentage':[]}\n",
    "\n",
    "path_user_state=\"C:/Users/spand/OneDrive/Desktop/Proj2_PhonePe/Data_github/data/aggregated/user/country/india/state/\"   \n",
    "Agg_state_list=os.listdir(path_user_state)\n",
    "for i in Agg_state_list:\n",
    "    p_i=path_user_state+i+\"/\"\n",
    "    Agg_yr_list=os.listdir(p_i)\n",
    "    for j in Agg_yr_list:\n",
    "        p_j=p_i+j+\"/\"\n",
    "        Agg_yr_qtr_list=os.listdir(p_j)\n",
    "        for k in Agg_yr_qtr_list:\n",
    "            p_k=p_j+k\n",
    "            Data=open(p_k,'r')\n",
    "            D=json.load(Data)\n",
    "            reg_users=D['data']['aggregated']['registeredUsers']\n",
    "            clm1['State'].append(state_data_map[i])\n",
    "            clm1['Year'].append(j)\n",
    "            clm1['Quarter'].append(int(k.strip('.json')))\n",
    "            clm1['Registered_Users'].append(reg_users)\n",
    "            clm1['App_Opens'].append(D['data']['aggregated']['appOpens'])\n",
    "            if (D['data']['usersByDevice']) is not None:\n",
    "                for z in D['data']['usersByDevice']:\n",
    "                    clm2['Brand_Name'].append(z['brand'])\n",
    "                    clm2['Brand_User_Count'].append(z['count'])\n",
    "                    clm2['Registered_Users'].append(reg_users)\n",
    "                    clm2['Brand_User_Percentage'].append(z['percentage'])\n",
    "                    clm2['State'].append(state_data_map[i])\n",
    "                    clm2['Year'].append(j)\n",
    "                    clm2['Quarter'].append(int(k.strip('.json')))\n",
    "#Succesfully created a dataframe\n",
    "Agg_User_df=pd.DataFrame(clm1)\n",
    "Agg_Brand_User_df=pd.DataFrame(clm2)"
   ]
  },
  {
   "cell_type": "code",
   "execution_count": null,
   "metadata": {},
   "outputs": [],
   "source": [
    "##  Create Table for Aggregate User Data\n",
    "\n",
    "mycursor.execute('''create table IF NOT EXISTS project_phonepe.Aggregate_Users (State VARCHAR(255),\n",
    "                 Year SMALLINT, Quarter TINYINT, Registered_Users INT, App_Opens BIGINT)''')"
   ]
  },
  {
   "cell_type": "code",
   "execution_count": null,
   "metadata": {},
   "outputs": [],
   "source": [
    "##      Insert Aggregate User data extracted into SQL Database\n",
    "\n",
    "for index,row in Agg_User_df.iterrows():\n",
    "    mycursor.execute('''INSERT INTO Aggregate_Users(State, Year, Quarter, Registered_Users, App_Opens) \n",
    "                     VALUES (%s,%s,%s,%s,%s)''',\n",
    "                     (row['State'],row['Year'],row['Quarter'],row['Registered_Users'],row['App_Opens']))\n",
    "    \n",
    "mydb.commit()"
   ]
  },
  {
   "cell_type": "code",
   "execution_count": null,
   "metadata": {},
   "outputs": [],
   "source": [
    "##  Create Table for Aggregate Brandwise User Data\n",
    "\n",
    "mycursor.execute('''create table IF NOT EXISTS project_phonepe.Aggregate_Brand_Users (State VARCHAR(255),\n",
    "                 Year SMALLINT, Quarter TINYINT, Brand_Name VARCHAR(255), Brand_User_Count INT, \n",
    "                 Registered_Users INT, Brand_User_Percentage FLOAT)''')"
   ]
  },
  {
   "cell_type": "code",
   "execution_count": null,
   "metadata": {},
   "outputs": [],
   "source": [
    "##      Insert Aggregate Brandwise User data extracted into SQL Database\n",
    "\n",
    "for index,row in Agg_Brand_User_df.iterrows():\n",
    "    mycursor.execute('''INSERT INTO Aggregate_Brand_Users(State, Year, Quarter, Brand_Name, Brand_User_Count, \n",
    "                     Registered_Users, Brand_User_Percentage) VALUES (%s,%s,%s,%s,%s,%s,%s)''',\n",
    "                     (row['State'],row['Year'],row['Quarter'],row['Brand_Name'],row['Brand_User_Count'],\n",
    "                      row['Registered_Users'],row['Brand_User_Percentage']))\n",
    "    \n",
    "mydb.commit()"
   ]
  },
  {
   "cell_type": "code",
   "execution_count": null,
   "metadata": {},
   "outputs": [],
   "source": [
    "#       Extract Transaction Data for all Districts of each States - Year/Quarter Wise\n",
    "\n",
    "\n",
    "clm3={'State':[], 'Year':[],'Quarter':[],'District':[], 'Transaction_Count':[], 'Transaction_Amount':[]}\n",
    "\n",
    "path_map_txn=\"C:/Users/spand/OneDrive/Desktop/Proj2_PhonePe/Data_github/data/map/transaction/hover/country/india/state/\"   \n",
    "Map_state_list=os.listdir(path_map_txn)\n",
    "for i in Map_state_list:\n",
    "    p_i=path_map_txn+i+\"/\"\n",
    "    Map_yr=os.listdir(p_i)\n",
    "    for j in Map_yr:\n",
    "        p_j=p_i+j+\"/\"\n",
    "        Map_yr_list=os.listdir(p_j)\n",
    "        for k in Map_yr_list:\n",
    "            p_k=p_j+k\n",
    "            Data=open(p_k,'r')\n",
    "            D=json.load(Data)\n",
    "            for z in D['data']['hoverDataList']:\n",
    "                clm3['State'].append(state_data_map[i])\n",
    "                clm3['Year'].append(j)\n",
    "                clm3['Quarter'].append(int(k.strip('.json')))\n",
    "                clm3['District'].append(z['name'])\n",
    "                clm3['Transaction_Count'].append(z['metric'][0]['count'])\n",
    "                clm3['Transaction_Amount'].append(z['metric'][0]['amount'])\n",
    "                                    \n",
    "#Succesfully created a dataframe\n",
    "Map_Trans_df=pd.DataFrame(clm3)"
   ]
  },
  {
   "cell_type": "code",
   "execution_count": null,
   "metadata": {},
   "outputs": [],
   "source": [
    "##  Create Table for Map Transaction Data\n",
    "\n",
    "mycursor.execute('''create table IF NOT EXISTS project_phonepe.Map_Transaction (State VARCHAR(255),\n",
    "                 Year SMALLINT, Quarter TINYINT, District VARCHAR(255), Transaction_Count INT, \n",
    "                 Transaction_Amount BIGINT)''')"
   ]
  },
  {
   "cell_type": "code",
   "execution_count": null,
   "metadata": {},
   "outputs": [],
   "source": [
    "##      Insert Map State/District wise Transaction data extracted into SQL Database\n",
    "\n",
    "for index,row in Map_Trans_df.iterrows():\n",
    "    mycursor.execute('''INSERT INTO Map_Transaction(State, Year,Quarter, District, Transaction_Count, Transaction_Amount) \n",
    "                     VALUES (%s,%s,%s,%s,%s,%s)''',\n",
    "                     (row['State'],row['Year'],row['Quarter'],row['District'],row['Transaction_Count'],row['Transaction_Amount']))\n",
    "    \n",
    "mydb.commit()"
   ]
  },
  {
   "cell_type": "code",
   "execution_count": null,
   "metadata": {},
   "outputs": [],
   "source": [
    "#       Extract Map User Data for each State/District - Year/Quarter wise (including brandwise data)\n",
    "\n",
    "clm4={'State':[], 'Year':[], 'Quarter':[], 'District':[], 'Registered_Users':[], 'App_Opens':[]}\n",
    "\n",
    "\n",
    "path_map_user=\"C:/Users/spand/OneDrive/Desktop/Proj2_PhonePe/Data_github/data/map/user/hover/country/india/state/\"   \n",
    "Map_state_list=os.listdir(path_map_user)\n",
    "for i in Map_state_list:\n",
    "    p_i=path_map_user+i+\"/\"\n",
    "    Map_yr_list=os.listdir(p_i)\n",
    "    for j in Map_yr_list:\n",
    "        p_j=p_i+j+\"/\"\n",
    "        Map_yr_qtr_list=os.listdir(p_j)\n",
    "        for k in Map_yr_qtr_list:\n",
    "            p_k=p_j+k\n",
    "            Data=open(p_k,'r')\n",
    "            D=json.load(Data)\n",
    "            key_dist_list=list(D['data']['hoverData'].keys())\n",
    "            for district in key_dist_list:\n",
    "                clm4['State'].append(state_data_map[i])\n",
    "                clm4['Year'].append(j)\n",
    "                clm4['Quarter'].append(int(k.strip('.json')))\n",
    "                clm4['District'].append(district)\n",
    "                clm4['Registered_Users'].append(D['data']['hoverData'][district]['registeredUsers'])\n",
    "                clm4['App_Opens'].append(D['data']['hoverData'][district]['appOpens'])\n",
    "#Succesfully created a dataframe\n",
    "Map_User_df=pd.DataFrame(clm4)"
   ]
  },
  {
   "cell_type": "code",
   "execution_count": null,
   "metadata": {},
   "outputs": [],
   "source": [
    "##  Create Table for Map User Data(State-District)\n",
    "\n",
    "mycursor.execute('''create table IF NOT EXISTS project_phonepe.Map_Users (State VARCHAR(255),\n",
    "                 Year SMALLINT, Quarter TINYINT, District VARCHAR(255), Registered_Users INT, App_Opens BIGINT)''')"
   ]
  },
  {
   "cell_type": "code",
   "execution_count": null,
   "metadata": {},
   "outputs": [],
   "source": [
    "##      Insert Map User data extracted into SQL Database(State-District)\n",
    "\n",
    "for index,row in Map_User_df.iterrows():\n",
    "    mycursor.execute('''INSERT INTO Map_Users(State, Year, Quarter, District, Registered_Users, App_Opens) \n",
    "                     VALUES (%s,%s,%s,%s,%s,%s)''',\n",
    "                     (row['State'],row['Year'],row['Quarter'],row['District'],row['Registered_Users'],row['App_Opens']))\n",
    "    \n",
    "mydb.commit()"
   ]
  },
  {
   "cell_type": "code",
   "execution_count": null,
   "metadata": {},
   "outputs": [],
   "source": [
    "#       Extract Transaction Data for top 10 Districts/Pincodes of each States - Year/Quarter Wise\n",
    "\n",
    "\n",
    "clm5={'State':[], 'Year':[],'Quarter':[],'District':[], 'Transaction_Count':[], 'Transaction_Amount':[]}\n",
    "clm6={'State':[], 'Year':[],'Quarter':[],'Pincode':[], 'Transaction_Count':[], 'Transaction_Amount':[]}\n",
    "\n",
    "path_top_txn=\"C:/Users/spand/OneDrive/Desktop/Proj2_PhonePe/Data_github/data/top/transaction/country/india/state/\"   \n",
    "Top_state_list=os.listdir(path_top_txn)\n",
    "for i in Top_state_list:\n",
    "    p_i=path_top_txn+i+\"/\"\n",
    "    Top_yr=os.listdir(p_i)\n",
    "    for j in Top_yr:\n",
    "        p_j=p_i+j+\"/\"\n",
    "        Top_yr_list=os.listdir(p_j)\n",
    "        for k in Top_yr_list:\n",
    "            p_k=p_j+k\n",
    "            Data=open(p_k,'r')\n",
    "            D=json.load(Data)\n",
    "\n",
    "            for z1 in D['data']['districts']:\n",
    "                clm5['State'].append(state_data_map[i])\n",
    "                clm5['Year'].append(j)\n",
    "                clm5['Quarter'].append(int(k.strip('.json')))\n",
    "                clm5['District'].append(z1['entityName'])\n",
    "                clm5['Transaction_Count'].append(z1['metric']['count'])\n",
    "                clm5['Transaction_Amount'].append(z1['metric']['amount'])\n",
    "\n",
    "            for z2 in D['data']['pincodes']:\n",
    "                clm6['State'].append(state_data_map[i])\n",
    "                clm6['Year'].append(j)\n",
    "                clm6['Quarter'].append(int(k.strip('.json')))\n",
    "                clm6['Pincode'].append(z2['entityName'])\n",
    "                clm6['Transaction_Count'].append(z2['metric']['count'])\n",
    "                clm6['Transaction_Amount'].append(z2['metric']['amount'])\n",
    "                                    \n",
    "#Succesfully created a dataframe\n",
    "Top_Trans_Dist_df=pd.DataFrame(clm5)\n",
    "Top_Trans_Pncd_df=pd.DataFrame(clm6)"
   ]
  },
  {
   "cell_type": "code",
   "execution_count": null,
   "metadata": {},
   "outputs": [],
   "source": [
    "##  Create Table for Top 10 Transactions of a State - District Wise Data\n",
    "\n",
    "mycursor.execute('''create table IF NOT EXISTS project_phonepe.Top_Transaction_District (State VARCHAR(255),\n",
    "                 Year SMALLINT, Quarter TINYINT, District VARCHAR(255), Transaction_Count INT, \n",
    "                 Transaction_Amount BIGINT)''')"
   ]
  },
  {
   "cell_type": "code",
   "execution_count": null,
   "metadata": {},
   "outputs": [],
   "source": [
    "##  Insert Values into Top 10 Transactions of a State - District Wise Database\n",
    "\n",
    "for index,row in Top_Trans_Dist_df.iterrows():\n",
    "    mycursor.execute('''INSERT INTO Top_Transaction_District(State, Year,Quarter, District, Transaction_Count, Transaction_Amount) \n",
    "                     VALUES (%s,%s,%s,%s,%s,%s)''',\n",
    "                     (row['State'],row['Year'],row['Quarter'],row['District'],row['Transaction_Count'],row['Transaction_Amount']))\n",
    "    \n",
    "mydb.commit()"
   ]
  },
  {
   "cell_type": "code",
   "execution_count": null,
   "metadata": {},
   "outputs": [],
   "source": [
    "##  Create Table for Top 10 Transactions of a State - District Wise Data\n",
    "\n",
    "mycursor.execute('''create table IF NOT EXISTS project_phonepe.Top_Transaction_Pincode (State VARCHAR(255),\n",
    "                 Year SMALLINT, Quarter TINYINT, Pincode INT, Transaction_Count INT, Transaction_Amount BIGINT)''')"
   ]
  },
  {
   "cell_type": "code",
   "execution_count": null,
   "metadata": {},
   "outputs": [],
   "source": [
    "##  Insert Values into Top 10 Transactions of a State - District Wise Database\n",
    "\n",
    "for index,row in Top_Trans_Pncd_df.iterrows():\n",
    "    mycursor.execute('''INSERT INTO Top_Transaction_Pincode(State,Year,Quarter,Pincode,Transaction_Count,Transaction_Amount) \n",
    "                     VALUES (%s,%s,%s,%s,%s,%s)''',\n",
    "                     (row['State'],row['Year'],row['Quarter'],row['Pincode'],row['Transaction_Count'],row['Transaction_Amount']))\n",
    "    \n",
    "mydb.commit()"
   ]
  },
  {
   "cell_type": "code",
   "execution_count": null,
   "metadata": {},
   "outputs": [],
   "source": [
    "#       Extract Top User Data for each State - District/Pincode - Year/Quarter wise\n",
    "\n",
    "clm7={'State':[], 'Year':[], 'Quarter':[], 'District':[], 'Registered_Users':[]}\n",
    "clm8={'State':[], 'Year':[], 'Quarter':[], 'Pincode':[], 'Registered_Users':[]}\n",
    "\n",
    "path_top_user=\"C:/Users/spand/OneDrive/Desktop/Proj2_PhonePe/Data_github/data/top/user/country/india/state/\"   \n",
    "Top_state_list=os.listdir(path_top_user)\n",
    "for i in Top_state_list:\n",
    "    p_i=path_top_user+i+\"/\"\n",
    "    Top_yr_list=os.listdir(p_i)\n",
    "    for j in Top_yr_list:\n",
    "        p_j=p_i+j+\"/\"\n",
    "        Top_yr_qtr_list=os.listdir(p_j)\n",
    "        for k in Top_yr_qtr_list:\n",
    "            p_k=p_j+k\n",
    "            Data=open(p_k,'r')\n",
    "            D=json.load(Data)\n",
    "            for z1 in D['data']['districts']:\n",
    "                clm7['State'].append(state_data_map[i])\n",
    "                clm7['Year'].append(j)\n",
    "                clm7['Quarter'].append(int(k.strip('.json')))\n",
    "                clm7['District'].append(z1['name'])\n",
    "                clm7['Registered_Users'].append(z1['registeredUsers'])\n",
    "\n",
    "            for z2 in D['data']['pincodes']:\n",
    "                clm8['State'].append(state_data_map[i])\n",
    "                clm8['Year'].append(j)\n",
    "                clm8['Quarter'].append(int(k.strip('.json')))\n",
    "                clm8['Pincode'].append(z2['name'])\n",
    "                clm8['Registered_Users'].append(z2['registeredUsers'])\n",
    "                \n",
    "#Succesfully created a dataframe\n",
    "Top_User_District_df=pd.DataFrame(clm7)\n",
    "Top_User_Pincode_df=pd.DataFrame(clm8)"
   ]
  },
  {
   "cell_type": "code",
   "execution_count": null,
   "metadata": {},
   "outputs": [],
   "source": [
    "##  Create Table for Top Registered User Data(State-District)\n",
    "\n",
    "mycursor.execute('''create table IF NOT EXISTS project_phonepe.Top_Users_District (State VARCHAR(255),\n",
    "                 Year SMALLINT, Quarter TINYINT, District VARCHAR(255), Registered_Users INT)''')"
   ]
  },
  {
   "cell_type": "code",
   "execution_count": null,
   "metadata": {},
   "outputs": [],
   "source": [
    "##      Insert Top User data State - District wise extracted into SQL Database(State-District)\n",
    "\n",
    "for index,row in Top_User_District_df.iterrows():\n",
    "    mycursor.execute('''INSERT INTO Top_Users_District(State, Year, Quarter, District, Registered_Users) \n",
    "                     VALUES (%s,%s,%s,%s,%s)''',\n",
    "                     (row['State'],row['Year'],row['Quarter'],row['District'],row['Registered_Users']))\n",
    "    \n",
    "mydb.commit()"
   ]
  },
  {
   "cell_type": "code",
   "execution_count": null,
   "metadata": {},
   "outputs": [],
   "source": [
    "##  Create Table for Top Registered User Data(State-Pincode)\n",
    "\n",
    "mycursor.execute('''create table IF NOT EXISTS project_phonepe.Top_Users_Pincode (State VARCHAR(255),\n",
    "                 Year SMALLINT, Quarter TINYINT, Pincode INT, Registered_Users INT)''')"
   ]
  },
  {
   "cell_type": "code",
   "execution_count": null,
   "metadata": {},
   "outputs": [],
   "source": [
    "##      Insert Top User data State - Pincode wise extracted into SQL Database(State-District)\n",
    "\n",
    "for index,row in Top_User_Pincode_df.iterrows():\n",
    "    mycursor.execute('''INSERT INTO Top_Users_Pincode(State, Year, Quarter, Pincode, Registered_Users) \n",
    "                     VALUES (%s,%s,%s,%s,%s)''',\n",
    "                     (row['State'],row['Year'],row['Quarter'],row['Pincode'],row['Registered_Users']))\n",
    "    \n",
    "mydb.commit()"
   ]
  }
 ],
 "metadata": {
  "kernelspec": {
   "display_name": "Python 3",
   "language": "python",
   "name": "python3"
  },
  "language_info": {
   "codemirror_mode": {
    "name": "ipython",
    "version": 3
   },
   "file_extension": ".py",
   "mimetype": "text/x-python",
   "name": "python",
   "nbconvert_exporter": "python",
   "pygments_lexer": "ipython3",
   "version": "3.12.2"
  }
 },
 "nbformat": 4,
 "nbformat_minor": 2
}
